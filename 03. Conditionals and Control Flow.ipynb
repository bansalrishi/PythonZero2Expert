{
 "cells": [
  {
   "cell_type": "markdown",
   "metadata": {},
   "source": [
    "# Topics Covered\n",
    "## Conditionals and Control Flow\n",
    "- Comparison\n",
    "- Boolean Operator\n",
    "- Conditional Statement\n",
    "- If syntax\n",
    "- else syntax\n",
    "- elif syntax"
   ]
  },
  {
   "cell_type": "markdown",
   "metadata": {},
   "source": [
    "## 1. Comparison\n",
    "Comparators. There are six:\n",
    "1.\tEqual to (==)\n",
    "2.\tNot equal to (!=)\n",
    "3.\tLess than (<)\n",
    "4.\tLess than or equal to (<=)\n",
    "5.\tGreater than (>)\n",
    "6.\tGreater than or equal to (>=)\n"
   ]
  },
  {
   "cell_type": "code",
   "execution_count": 5,
   "metadata": {},
   "outputs": [
    {
     "name": "stdout",
     "output_type": "stream",
     "text": [
      "Incorrect value\n"
     ]
    }
   ],
   "source": [
    "n = 5\n",
    "if n == 6:\n",
    "    print(\"Value is correct\")\n",
    "else:\n",
    "    print(\"Incorrect value\")"
   ]
  },
  {
   "cell_type": "code",
   "execution_count": 7,
   "metadata": {},
   "outputs": [
    {
     "name": "stdout",
     "output_type": "stream",
     "text": [
      "N is not equal to 6\n"
     ]
    }
   ],
   "source": [
    "n = 5\n",
    "if n != 6:\n",
    "    print(\"N is not equal to 6\")\n",
    "else:\n",
    "    print(\"N is equal to 6\")"
   ]
  },
  {
   "cell_type": "code",
   "execution_count": 10,
   "metadata": {},
   "outputs": [
    {
     "name": "stdout",
     "output_type": "stream",
     "text": [
      "N is equal to or greater than 6\n"
     ]
    }
   ],
   "source": [
    "n = 6\n",
    "if n < 6:\n",
    "    print(\"N is less than 6\")\n",
    "else:\n",
    "    print(\"N is equal to or greater than 6\")"
   ]
  },
  {
   "cell_type": "markdown",
   "metadata": {},
   "source": [
    "## 2. Boolean Operator\n",
    "Boolean operators aren't just evaluated from left to right. Just like with arithmetic operators, there's an order of operations for boolean operators:\n",
    "1.\tnot is evaluated first\n",
    "2.\tand is evaluated next\n",
    "3.\tor is evaluated last.\n",
    "\n",
    "For example, True or not False and False returns True.  \n",
    "Parentheses () ensure the expressions are evaluated in the order you want. Anything in parentheses is evaluated as its own unit.  \n"
   ]
  },
  {
   "cell_type": "code",
   "execution_count": null,
   "metadata": {},
   "outputs": [],
   "source": []
  }
 ],
 "metadata": {
  "kernelspec": {
   "display_name": "Python 3",
   "language": "python",
   "name": "python3"
  },
  "language_info": {
   "codemirror_mode": {
    "name": "ipython",
    "version": 3
   },
   "file_extension": ".py",
   "mimetype": "text/x-python",
   "name": "python",
   "nbconvert_exporter": "python",
   "pygments_lexer": "ipython3",
   "version": "3.6.6"
  }
 },
 "nbformat": 4,
 "nbformat_minor": 2
}
