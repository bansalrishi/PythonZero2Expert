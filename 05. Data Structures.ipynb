{
 "cells": [
  {
   "cell_type": "markdown",
   "metadata": {},
   "source": [
    "#### Data Structure\n",
    "- structure which holds some data together or use to store collection of related data\n",
    "\n",
    "**Built-In Data Structures**\n",
    "1. Lists\n",
    "2. Tuples\n",
    "3. Dictionaries\n",
    "4. Strings\n",
    "5. Sets\n",
    "6. Frozensets"
   ]
  },
  {
   "cell_type": "markdown",
   "metadata": {},
   "source": [
    "- Lists, strings and tuples are ordered sequences of objects.\n",
    "- Strings contain only characters.\n",
    "- List and tuples can contain any type of objects.\n",
    "- Lists are mutables so they can be extended or reduced at will.\n",
    "- Tuples like strings are immutables.\n",
    "- Lists and tuples are like arrays.\n",
    "- Sets are mutable unordered sequence of unique elements whereas frozensets are immutable sets.\n"
   ]
  },
  {
   "cell_type": "markdown",
   "metadata": {},
   "source": [
    "## 1. Lists\n",
    "- Ordered Sequence of objects\n",
    "- can contain any type of objects (e.g: int, float, str, etc)\n",
    "- mutables (can be extended or reduced at anytime)\n",
    "- same as arrays"
   ]
  },
  {
   "cell_type": "code",
   "execution_count": null,
   "metadata": {},
   "outputs": [],
   "source": []
  }
 ],
 "metadata": {
  "kernelspec": {
   "display_name": "Python 3",
   "language": "python",
   "name": "python3"
  },
  "language_info": {
   "codemirror_mode": {
    "name": "ipython",
    "version": 3
   },
   "file_extension": ".py",
   "mimetype": "text/x-python",
   "name": "python",
   "nbconvert_exporter": "python",
   "pygments_lexer": "ipython3",
   "version": "3.6.6"
  }
 },
 "nbformat": 4,
 "nbformat_minor": 2
}
