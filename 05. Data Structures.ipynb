{
 "cells": [
  {
   "cell_type": "markdown",
   "metadata": {},
   "source": [
    "#### Data Structure\n",
    "- structure which holds some data together or use to store collection of related data\n",
    "\n",
    "**Built-In Data Structures**\n",
    "1. Lists\n",
    "2. Tuples\n",
    "3. Dictionaries\n",
    "4. Strings\n",
    "5. Sets\n",
    "6. Frozensets"
   ]
  },
  {
   "cell_type": "markdown",
   "metadata": {},
   "source": [
    "- Lists, strings and tuples are ordered sequences of objects.\n",
    "- Strings contain only characters.\n",
    "- List and tuples can contain any type of objects.\n",
    "- Lists are mutables so they can be extended or reduced at will.\n",
    "- Tuples like strings are immutables.\n",
    "- Lists and tuples are like arrays.\n",
    "- Sets are mutable unordered sequence of unique elements whereas frozensets are immutable sets.\n"
   ]
  },
  {
   "cell_type": "markdown",
   "metadata": {},
   "source": [
    "## 1. Lists\n",
    "- Ordered Sequence of objects\n",
    "- can contain any type of objects (e.g: int, float, str, etc)\n",
    "- mutables (can be extended or reduced at anytime)\n",
    "- same as arrays\n",
    "- syntax -> [1,4,5.7, \"hindi\", \"english\"]"
   ]
  },
  {
   "cell_type": "code",
   "execution_count": 5,
   "metadata": {},
   "outputs": [
    {
     "name": "stdout",
     "output_type": "stream",
     "text": [
      "[1, 4, 5.7, 'hindi', 'english']\n",
      "<class 'int'>\n",
      "<class 'float'>\n",
      "<class 'str'>\n",
      "[1, 4, 5, 7, 9]\n"
     ]
    }
   ],
   "source": [
    "list_1 = [1,4,5.7, \"hindi\", \"english\"]\n",
    "list_2 = [ 1, 4, 5, 7, 9]\n",
    "\n",
    "print(list_1)\n",
    "print(type(list_1[0]))\n",
    "print(type(list_1[2]))\n",
    "print(type(list_1[3]))\n",
    "print(list_2)"
   ]
  },
  {
   "cell_type": "markdown",
   "metadata": {},
   "source": [
    "**Accessing Values - Lists**\n",
    "- print selective values - slicing\n",
    "- updating list\n",
    "- deleting from list"
   ]
  },
  {
   "cell_type": "code",
   "execution_count": 3,
   "metadata": {},
   "outputs": [
    {
     "name": "stdout",
     "output_type": "stream",
     "text": [
      "list_1[0]:  World\n",
      "list_2[1:7]:  [2, 3, 4, 5, 6, 7]\n",
      "list_1:  ['hindi', 2021]\n"
     ]
    }
   ],
   "source": [
    "list_1 = ['World', 'hindi', 2021, 2020]\n",
    "list_2 = [1, 2, 3, 4, 5, 6, 7, 8, 9]\n",
    "\n",
    "print (\"list_1[0]: \", list_1[0])\n",
    "print (\"list_2[1:7]: \", list_2[1:7])\n",
    "\n",
    "list_2[3] = 2012\n",
    "del list_1[3]   \n",
    "list_1.remove(\"World\")\n",
    "print (\"list_1: \", list_1)\n"
   ]
  },
  {
   "cell_type": "markdown",
   "metadata": {},
   "source": [
    "**Appending - Lists**\n",
    "- length of list is not fixed, we can add an item at the end of the list"
   ]
  },
  {
   "cell_type": "code",
   "execution_count": 6,
   "metadata": {},
   "outputs": [
    {
     "name": "stdout",
     "output_type": "stream",
     "text": [
      "4\n",
      "[1, 2, 3, 4]\n"
     ]
    }
   ],
   "source": [
    "count = [1, 2, 3]\n",
    "count.append(4)\n",
    "print (len(count))\n",
    "print (count)\n"
   ]
  },
  {
   "cell_type": "markdown",
   "metadata": {},
   "source": [
    "**Extending - Lists**\n",
    "- in case we have several items contained in a list to add at a time, we need to use extend"
   ]
  },
  {
   "cell_type": "code",
   "execution_count": 7,
   "metadata": {},
   "outputs": [
    {
     "name": "stdout",
     "output_type": "stream",
     "text": [
      "4\n",
      "[1, 2, 3, [4, 5, 6]]\n"
     ]
    }
   ],
   "source": [
    "#using append\n",
    "count = [1, 2, 3]\n",
    "count.append([4, 5, 6])\n",
    "print (len(count))\n",
    "print (count)"
   ]
  },
  {
   "cell_type": "code",
   "execution_count": 8,
   "metadata": {},
   "outputs": [
    {
     "name": "stdout",
     "output_type": "stream",
     "text": [
      "6\n",
      "[1, 2, 3, 4, 5, 6]\n"
     ]
    }
   ],
   "source": [
    "#using extend\n",
    "count = [1, 2, 3]\n",
    "count.extend([4, 5, 6])\n",
    "print (len(count))\n",
    "print (count)"
   ]
  },
  {
   "cell_type": "markdown",
   "metadata": {},
   "source": [
    "**Lists - Order**\n",
    "- searching an item in the list"
   ]
  },
  {
   "cell_type": "code",
   "execution_count": 9,
   "metadata": {},
   "outputs": [
    {
     "name": "stdout",
     "output_type": "stream",
     "text": [
      "1\n"
     ]
    }
   ],
   "source": [
    "animals = [\"lion\", \"tiger\", \"monkey\"]\n",
    "print (animals.index(\"tiger\"))\n"
   ]
  },
  {
   "cell_type": "code",
   "execution_count": 11,
   "metadata": {},
   "outputs": [
    {
     "name": "stdout",
     "output_type": "stream",
     "text": [
      "['lion', 'wolf', 'tiger', 'monkey']\n"
     ]
    }
   ],
   "source": [
    "#Inserting item at specific place in a list\n",
    "animals.insert(1, \"wolf\")\n",
    "print (animals)\n"
   ]
  },
  {
   "cell_type": "markdown",
   "metadata": {},
   "source": [
    "**Lists - Accessing elements by loop**"
   ]
  },
  {
   "cell_type": "code",
   "execution_count": 14,
   "metadata": {},
   "outputs": [
    {
     "name": "stdout",
     "output_type": "stream",
     "text": [
      "1\n",
      "2\n",
      "3\n",
      "4\n",
      "5\n",
      "6\n",
      "7\n",
      "8\n",
      "9\n"
     ]
    }
   ],
   "source": [
    "list_1 = [1, 2, 3, 4, 5, 6, 7, 8, 9]\n",
    "for i in list_1:\n",
    "    print(i)\n"
   ]
  },
  {
   "cell_type": "markdown",
   "metadata": {},
   "source": [
    "**Lists - Copy a List**"
   ]
  },
  {
   "cell_type": "code",
   "execution_count": 21,
   "metadata": {},
   "outputs": [
    {
     "name": "stdout",
     "output_type": "stream",
     "text": [
      "list_2:  [1, 2, 3, 4, 5, 6, 7, 8, 9]\n",
      "list_3:  [1, 2, 3, 4, 5, 6, 7, 8, 9]\n",
      "list_4:  [1, 2, 3, 4, 5, 6, 7, 8, 9]\n",
      "list_4:  [1, 2, 3, 4, 5, 6, 7, 8, 9, 10]\n",
      "list_2:  [1, 2, 3, 4, 5, 6, 7, 8, 9]\n"
     ]
    }
   ],
   "source": [
    "list_1 = [1, 2, 3, 4, 5, 6, 7, 8, 9]\n",
    "#Method 1\n",
    "list_2 = list(list_1)\n",
    "print(\"list_2: \", list_2)\n",
    "\n",
    "#Method 2\n",
    "list_3 = list_1[:]\n",
    "print(\"list_3: \", list_3)\n",
    "\n",
    "#Dont copy like below as it will create a reference not a copy\n",
    "list_4 = list_1\n",
    "print(\"list_4: \", list_4)\n",
    "list_1.append(10)\n",
    "print(\"list_4: \", list_4)\n",
    "print(\"list_2: \", list_2)"
   ]
  },
  {
   "cell_type": "markdown",
   "metadata": {},
   "source": [
    "**List Comprehensions**"
   ]
  },
  {
   "cell_type": "markdown",
   "metadata": {},
   "source": [
    "## 2. Dictionary\n",
    "- access elements using key instead of index(e.g: List)\n",
    "- Key can be string or number\n",
    "- E.g: dict = {'key_1' : 1, 'key_2' : 2, 'key_3' : 3}"
   ]
  },
  {
   "cell_type": "code",
   "execution_count": 24,
   "metadata": {},
   "outputs": [
    {
     "name": "stdout",
     "output_type": "stream",
     "text": [
      "dict['Age']:  15\n",
      "dict['Name']:  Manoj\n",
      "dict['Class']:  Eleven\n"
     ]
    }
   ],
   "source": [
    "dict = {'Name': 'Manoj', 'Age': 15, 'Class': 'Eleven'}\n",
    "\n",
    "print (\"dict['Age']: \", dict['Age'])\n",
    "print (\"dict['Name']: \", dict['Name'])\n",
    "print (\"dict['Class']: \", dict['Class'])"
   ]
  },
  {
   "cell_type": "markdown",
   "metadata": {},
   "source": [
    "**Dictionary Operations**\n",
    "1. Assigning new value\n",
    "2. Adding New Entry\n",
    "3. Accessing non existent key\n",
    "4. Deleting an entry\n",
    "5. Remove all entries\n",
    "6. Deleting entire dictionary"
   ]
  },
  {
   "cell_type": "code",
   "execution_count": 26,
   "metadata": {},
   "outputs": [
    {
     "name": "stdout",
     "output_type": "stream",
     "text": [
      "dict['Name']:  Manoj\n"
     ]
    }
   ],
   "source": [
    "# assigning new value\n",
    "dict['Age'] = 17\n",
    "print (\"dict['Name']: \", dict['Name'])"
   ]
  },
  {
   "cell_type": "code",
   "execution_count": 27,
   "metadata": {},
   "outputs": [
    {
     "name": "stdout",
     "output_type": "stream",
     "text": [
      "dict['School']:  Mount Litera School\n"
     ]
    }
   ],
   "source": [
    "# To Add a new entry\n",
    "dict['School'] = \"Mount Litera School\" \n",
    "print (\"dict['School']: \", dict['School'])"
   ]
  },
  {
   "cell_type": "code",
   "execution_count": 28,
   "metadata": {},
   "outputs": [
    {
     "ename": "KeyError",
     "evalue": "'college'",
     "output_type": "error",
     "traceback": [
      "\u001b[1;31m---------------------------------------------------------------------------\u001b[0m",
      "\u001b[1;31mKeyError\u001b[0m                                  Traceback (most recent call last)",
      "\u001b[1;32m<ipython-input-28-946c910857ad>\u001b[0m in \u001b[0;36m<module>\u001b[1;34m\u001b[0m\n\u001b[0;32m      1\u001b[0m \u001b[1;31m#Accessing non existent key\u001b[0m\u001b[1;33m\u001b[0m\u001b[1;33m\u001b[0m\u001b[0m\n\u001b[1;32m----> 2\u001b[1;33m \u001b[0mprint\u001b[0m \u001b[1;33m(\u001b[0m\u001b[1;34m\"dict['college']: \"\u001b[0m\u001b[1;33m,\u001b[0m \u001b[0mdict\u001b[0m\u001b[1;33m[\u001b[0m\u001b[1;34m'college'\u001b[0m\u001b[1;33m]\u001b[0m\u001b[1;33m)\u001b[0m\u001b[1;33m\u001b[0m\u001b[0m\n\u001b[0m",
      "\u001b[1;31mKeyError\u001b[0m: 'college'"
     ]
    }
   ],
   "source": [
    "#Accessing non existent key\n",
    "print (\"dict['college']: \", dict['college'])"
   ]
  },
  {
   "cell_type": "code",
   "execution_count": 29,
   "metadata": {},
   "outputs": [
    {
     "name": "stdout",
     "output_type": "stream",
     "text": [
      "{'Name': 'Manoj', 'Age': 17, 'Class': 'Eleven', 'School': 'Mount Litera School'}\n",
      "{'Age': 17, 'Class': 'Eleven', 'School': 'Mount Litera School'}\n"
     ]
    }
   ],
   "source": [
    "#Deleting an entry\n",
    "print(dict)\n",
    "del dict['Name']\n",
    "print(dict)"
   ]
  },
  {
   "cell_type": "code",
   "execution_count": 35,
   "metadata": {},
   "outputs": [
    {
     "name": "stdout",
     "output_type": "stream",
     "text": [
      "{}\n"
     ]
    },
    {
     "ename": "KeyError",
     "evalue": "'School'",
     "output_type": "error",
     "traceback": [
      "\u001b[1;31m---------------------------------------------------------------------------\u001b[0m",
      "\u001b[1;31mKeyError\u001b[0m                                  Traceback (most recent call last)",
      "\u001b[1;32m<ipython-input-35-9bc31d9651c8>\u001b[0m in \u001b[0;36m<module>\u001b[1;34m\u001b[0m\n\u001b[0;32m      3\u001b[0m \u001b[0mdict\u001b[0m\u001b[1;33m.\u001b[0m\u001b[0mclear\u001b[0m\u001b[1;33m(\u001b[0m\u001b[1;33m)\u001b[0m\u001b[1;33m\u001b[0m\u001b[0m\n\u001b[0;32m      4\u001b[0m \u001b[0mprint\u001b[0m\u001b[1;33m(\u001b[0m\u001b[0mdict\u001b[0m\u001b[1;33m)\u001b[0m\u001b[1;33m\u001b[0m\u001b[0m\n\u001b[1;32m----> 5\u001b[1;33m \u001b[0mprint\u001b[0m \u001b[1;33m(\u001b[0m\u001b[1;34m\"dict['School']: \"\u001b[0m\u001b[1;33m,\u001b[0m \u001b[0mdict\u001b[0m\u001b[1;33m[\u001b[0m\u001b[1;34m'School'\u001b[0m\u001b[1;33m]\u001b[0m\u001b[1;33m)\u001b[0m\u001b[1;33m\u001b[0m\u001b[0m\n\u001b[0m",
      "\u001b[1;31mKeyError\u001b[0m: 'School'"
     ]
    }
   ],
   "source": [
    "#Remove all entries\n",
    "dict = {'Name': 'Manoj', 'Age': 15, 'Class': 'Eleven'}\n",
    "dict.clear()\n",
    "print(dict)\n",
    "print (\"dict['School']: \", dict['School'])"
   ]
  },
  {
   "cell_type": "code",
   "execution_count": 33,
   "metadata": {},
   "outputs": [
    {
     "name": "stdout",
     "output_type": "stream",
     "text": [
      "<class 'dict'>\n"
     ]
    },
    {
     "ename": "TypeError",
     "evalue": "'type' object is not subscriptable",
     "output_type": "error",
     "traceback": [
      "\u001b[1;31m---------------------------------------------------------------------------\u001b[0m",
      "\u001b[1;31mTypeError\u001b[0m                                 Traceback (most recent call last)",
      "\u001b[1;32m<ipython-input-33-b4a2eaa824d5>\u001b[0m in \u001b[0;36m<module>\u001b[1;34m\u001b[0m\n\u001b[0;32m      3\u001b[0m \u001b[1;32mdel\u001b[0m \u001b[0mdict\u001b[0m\u001b[1;33m\u001b[0m\u001b[0m\n\u001b[0;32m      4\u001b[0m \u001b[0mprint\u001b[0m\u001b[1;33m(\u001b[0m\u001b[0mdict\u001b[0m\u001b[1;33m)\u001b[0m\u001b[1;33m\u001b[0m\u001b[0m\n\u001b[1;32m----> 5\u001b[1;33m \u001b[0mprint\u001b[0m \u001b[1;33m(\u001b[0m\u001b[1;34m\"dict['School']: \"\u001b[0m\u001b[1;33m,\u001b[0m \u001b[0mdict\u001b[0m\u001b[1;33m[\u001b[0m\u001b[1;34m'School'\u001b[0m\u001b[1;33m]\u001b[0m\u001b[1;33m)\u001b[0m\u001b[1;33m\u001b[0m\u001b[0m\n\u001b[0m",
      "\u001b[1;31mTypeError\u001b[0m: 'type' object is not subscriptable"
     ]
    }
   ],
   "source": [
    "#Deleting entire dictionary\n",
    "dict = {'Name': 'Manoj', 'Age': 15, 'Class': 'Eleven'}\n",
    "del dict\n",
    "print(dict)\n",
    "print (\"dict['School']: \", dict['School'])"
   ]
  },
  {
   "cell_type": "code",
   "execution_count": null,
   "metadata": {},
   "outputs": [],
   "source": []
  }
 ],
 "metadata": {
  "kernelspec": {
   "display_name": "Python 3",
   "language": "python",
   "name": "python3"
  },
  "language_info": {
   "codemirror_mode": {
    "name": "ipython",
    "version": 3
   },
   "file_extension": ".py",
   "mimetype": "text/x-python",
   "name": "python",
   "nbconvert_exporter": "python",
   "pygments_lexer": "ipython3",
   "version": "3.6.6"
  }
 },
 "nbformat": 4,
 "nbformat_minor": 2
}
