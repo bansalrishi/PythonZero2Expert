{
 "cells": [
  {
   "cell_type": "markdown",
   "metadata": {},
   "source": [
    "# Topics Covered\n",
    "1. Initialization of 1D array\n",
    "2. Initialization of 2D array\n",
    "3. Slicing and Indexing\n",
    "4. Matrix Operations\n",
    "5. Statistical Functions"
   ]
  },
  {
   "cell_type": "markdown",
   "metadata": {},
   "source": [
    "## Introduction\n",
    "\n",
    "- Library in python\n",
    "- Specializes in dealing with multidimensional Arrays\n",
    "\n",
    "#### Salient Features \n",
    "* Contiguous Storage : Numpy stores data in contiguous storage which avoid wastage\n",
    "* Automatic Checking : It is not possible to have 1st row with 5 elements and 2nd row with 4 elements\n",
    "* Faster Vector Arithmatics :Because of contiguous storage, the operations are faster compared to Lists"
   ]
  },
  {
   "cell_type": "markdown",
   "metadata": {},
   "source": [
    "### 1. Initialization of 1D array\n",
    "A numpy array comes with 2 important state variables. Just like Python, it automatically detects dtype (if not mentioned)\n",
    "\n",
    "- dtype\n",
    "- shape\n"
   ]
  },
  {
   "cell_type": "code",
   "execution_count": 2,
   "metadata": {},
   "outputs": [
    {
     "name": "stdout",
     "output_type": "stream",
     "text": [
      "[ 1  2  4  8 16]\n",
      "int32\n",
      "Shape is 5\n"
     ]
    }
   ],
   "source": [
    "import numpy as np\n",
    "v = np.array([1,2,4,8,16])\n",
    "print(v)\n",
    "print(v.dtype)\n",
    "print(\"Shape is %s\" % v.shape)\n"
   ]
  },
  {
   "cell_type": "markdown",
   "metadata": {},
   "source": [
    "### 2. Initialization of 2D array\n",
    "- By default Numpy stores Matrix in Row Major Format\n",
    "- Row Major Format: the complete row will be stored first and then the next row will be stored and so on\n",
    "- for Column Major Format: mention order='F' on ndarray creation\n",
    "\n"
   ]
  },
  {
   "cell_type": "markdown",
   "metadata": {},
   "source": [
    "#### Initialization from List of List"
   ]
  },
  {
   "cell_type": "code",
   "execution_count": 10,
   "metadata": {},
   "outputs": [
    {
     "name": "stdout",
     "output_type": "stream",
     "text": [
      "[[[1 2 3]\n",
      "  [4 5 6]\n",
      "  [7 8 9]]]\n",
      "[1 2 3 4 5 6 7 8 9]\n"
     ]
    }
   ],
   "source": [
    "list = [[[1,2,3],[4,5,6],[7,8,9]]]\n",
    "np_mat = np.array(list)\n",
    "print(np_mat)\n",
    "print(np_mat.flatten())"
   ]
  },
  {
   "cell_type": "code",
   "execution_count": 9,
   "metadata": {},
   "outputs": [
    {
     "data": {
      "text/plain": [
       "array([1, 2, 3, 4, 5, 6, 7, 8, 9])"
      ]
     },
     "execution_count": 9,
     "metadata": {},
     "output_type": "execute_result"
    }
   ],
   "source": [
    "np_mat.flatten()"
   ]
  },
  {
   "cell_type": "markdown",
   "metadata": {},
   "source": [
    "#### Initialization with zero/ones  \n",
    "numpy.zeros(shape, dtype=float)\n",
    "numpy.ones(shape, dtype=float)"
   ]
  },
  {
   "cell_type": "code",
   "execution_count": 13,
   "metadata": {},
   "outputs": [
    {
     "name": "stdout",
     "output_type": "stream",
     "text": [
      "[[0. 0. 0. 0.]\n",
      " [0. 0. 0. 0.]\n",
      " [0. 0. 0. 0.]\n",
      " [0. 0. 0. 0.]\n",
      " [0. 0. 0. 0.]]\n"
     ]
    }
   ],
   "source": [
    "mat_0 = np.zeros(shape=(5,4))\n",
    "print(mat_0)"
   ]
  },
  {
   "cell_type": "markdown",
   "metadata": {},
   "source": [
    "## 3. Slicing and Indexing\n",
    "\n",
    "Just like python, numpy also has 0 indexing. Let us see some of the commonly used slicing techniques .\n",
    "\n",
    "- Remove n elements\n",
    "- Access elements at indices in reverse order\n",
    "- Access elements present for a range of indices\n",
    "- Access a particular set of index given by a list\n"
   ]
  },
  {
   "cell_type": "markdown",
   "metadata": {},
   "source": [
    "**Remove n elements**"
   ]
  },
  {
   "cell_type": "code",
   "execution_count": 11,
   "metadata": {},
   "outputs": [
    {
     "name": "stdout",
     "output_type": "stream",
     "text": [
      "[0 1 2 3 4 5 6 7 8 9]\n",
      "[0 1 2 3 4 5]\n"
     ]
    }
   ],
   "source": [
    "vector = np.arange(10)\n",
    "print(vector)\n",
    "vector = vector[:-4]\n",
    "print(vector)"
   ]
  },
  {
   "cell_type": "markdown",
   "metadata": {},
   "source": [
    "**Access elements at indices in reverse order**"
   ]
  },
  {
   "cell_type": "code",
   "execution_count": 18,
   "metadata": {},
   "outputs": [
    {
     "name": "stdout",
     "output_type": "stream",
     "text": [
      "[0 1 2 3 4 5 6 7 8 9]\n",
      "[9 8 7 6 5 4 3 2 1 0]\n"
     ]
    }
   ],
   "source": [
    "vector = np.arange(10)\n",
    "print(vector)\n",
    "rev_vector = vector[::-1]\n",
    "print(rev_vector)"
   ]
  },
  {
   "cell_type": "markdown",
   "metadata": {},
   "source": [
    "**Access elements present for a range of indices**"
   ]
  },
  {
   "cell_type": "code",
   "execution_count": 34,
   "metadata": {},
   "outputs": [
    {
     "name": "stdout",
     "output_type": "stream",
     "text": [
      "[0 1 2 3 4 5 6 7 8 9]\n",
      "[2 3 4]\n"
     ]
    }
   ],
   "source": [
    "vector = np.arange(10)\n",
    "print(vector)\n",
    "print(vector[2:5])"
   ]
  },
  {
   "cell_type": "markdown",
   "metadata": {},
   "source": [
    "**Access a particular set of index given by a list**"
   ]
  },
  {
   "cell_type": "code",
   "execution_count": 23,
   "metadata": {},
   "outputs": [
    {
     "name": "stdout",
     "output_type": "stream",
     "text": [
      "[0 1 2]\n"
     ]
    }
   ],
   "source": [
    "vector = np.arange(10)\n",
    "print(vector[[0,1,2]])"
   ]
  },
  {
   "cell_type": "markdown",
   "metadata": {},
   "source": [
    "### 4. Matrix Operations\n",
    "**Creating a sub matrix**  "
   ]
  },
  {
   "cell_type": "code",
   "execution_count": 28,
   "metadata": {},
   "outputs": [
    {
     "name": "stdout",
     "output_type": "stream",
     "text": [
      "Original Matrix \n",
      "[[7 1 4 2 6 7]\n",
      " [3 8 8 1 7 7]\n",
      " [1 3 7 0 3 4]]\n",
      "\n",
      "Sub Matrix:First 2 rows and Last 3 columns\n",
      "[[2 6 7]\n",
      " [1 7 7]]\n",
      "\n"
     ]
    }
   ],
   "source": [
    "main_mat = np.random.randint(0,9,(3,6))\n",
    "# Submatrix with first 2 rows and last 2 columns\n",
    "sub_mat = main_mat[0:2,-3:]\n",
    "print ('Original Matrix \\n%s\\n'%main_mat)\n",
    "print ('Sub Matrix:First 2 rows and Last 3 columns\\n%s\\n'%sub_mat)"
   ]
  },
  {
   "cell_type": "markdown",
   "metadata": {},
   "source": [
    "**Horizontal Matrix splitting**  \n",
    "numpy.hsplit(ary, indices_or_sections)\n",
    "\n",
    "- it splits a matrix across the horizontal plane based on the indices. \n",
    "- No change in the number of rows"
   ]
  },
  {
   "cell_type": "code",
   "execution_count": 33,
   "metadata": {},
   "outputs": [
    {
     "name": "stdout",
     "output_type": "stream",
     "text": [
      "Original matrix of shape (3, 7), is \n",
      "[[3 4 4 4 0 0 2]\n",
      " [3 0 5 2 5 4 5]\n",
      " [1 3 3 4 0 5 4]]\n",
      "\n",
      "First split of shape (3, 4), is \n",
      "[[3 4 4 4]\n",
      " [3 0 5 2]\n",
      " [1 3 3 4]]\n",
      "\n",
      "Second split of shape (3, 2), is \n",
      "[[0 0]\n",
      " [5 4]\n",
      " [0 5]]\n",
      "\n",
      "Third split of shape (3, 1), is \n",
      "[[2]\n",
      " [5]\n",
      " [4]]\n",
      "\n"
     ]
    }
   ],
   "source": [
    "mat = np.random.randint(0,6,(3,7))\n",
    "sp1,sp2,sp3 = np.hsplit(mat,[4,6])\n",
    "print ('Original matrix of shape %s, is \\n%s\\n'%(mat.shape,mat))\n",
    "print ('First split of shape %s, is \\n%s\\n'%(sp1.shape,sp1))\n",
    "print ('Second split of shape %s, is \\n%s\\n'%(sp2.shape,sp2))\n",
    "print ('Third split of shape %s, is \\n%s\\n'%(sp3.shape,sp3))"
   ]
  },
  {
   "cell_type": "markdown",
   "metadata": {},
   "source": [
    "### 5. Statistical Functions\n",
    "\n",
    "    np.mean(data,axis=0)\n",
    "    np.var(data,axis=0)\n",
    "    np.sum(data,axis=0)\n",
    "    np.max(data,axis=0)\n",
    "    np.min(data,axis=0)\n"
   ]
  },
  {
   "cell_type": "code",
   "execution_count": 39,
   "metadata": {},
   "outputs": [
    {
     "name": "stdout",
     "output_type": "stream",
     "text": [
      "Original matrix is \n",
      "[[0 1]\n",
      " [2 3]]\n",
      "\n",
      "Overall mean of matrix is \n",
      "1.5\n",
      "\n",
      "Row mean of matrix is \n",
      "[1. 2.]\n",
      "\n",
      "Column mean of matrix is \n",
      "[0.5 2.5]\n",
      "\n",
      "---------------------------\n",
      "\n",
      "Overall varience of matrix is 1.25\n",
      "\n",
      "Overall sum of matrix is 6\n",
      "\n",
      "Overall min of matrix is 0\n",
      "\n",
      "Overall max of matrix is 3\n",
      "\n",
      "-------------------------------------\n",
      "\n"
     ]
    }
   ],
   "source": [
    "mat = np.arange(4).reshape((2,2))\n",
    "print ('Original matrix is \\n%s\\n'%mat)\n",
    "print ('Overall mean of matrix is \\n%s\\n'%np.mean(mat))\n",
    "print ('Row mean of matrix is \\n%s\\n'%np.mean(mat, axis=0))\n",
    "print ('Column mean of matrix is \\n%s\\n'%np.mean(mat, axis=1))\n",
    "print ('---------------------------\\n')\n",
    "print ('Overall varience of matrix is %s\\n'%np.var(mat))\n",
    "print ('Overall sum of matrix is %s\\n'%np.sum(mat))\n",
    "print ('Overall min of matrix is %s\\n'%np.min(mat))\n",
    "print ('Overall max of matrix is %s\\n'%np.max(mat))\n",
    "\n",
    "print ('-------------------------------------\\n')"
   ]
  },
  {
   "cell_type": "code",
   "execution_count": null,
   "metadata": {},
   "outputs": [],
   "source": []
  }
 ],
 "metadata": {
  "kernelspec": {
   "display_name": "Python 3",
   "language": "python",
   "name": "python3"
  },
  "language_info": {
   "codemirror_mode": {
    "name": "ipython",
    "version": 3
   },
   "file_extension": ".py",
   "mimetype": "text/x-python",
   "name": "python",
   "nbconvert_exporter": "python",
   "pygments_lexer": "ipython3",
   "version": "3.6.6"
  }
 },
 "nbformat": 4,
 "nbformat_minor": 2
}
