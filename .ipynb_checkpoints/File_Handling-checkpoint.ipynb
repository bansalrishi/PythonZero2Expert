{
 "cells": [
  {
   "cell_type": "code",
   "execution_count": 16,
   "id": "2078e21e",
   "metadata": {},
   "outputs": [
    {
     "name": "stdout",
     "output_type": "stream",
     "text": [
      "['He also underlined that all states and UTs must continue to monitor the situation and the Covid trajectory on a daily basis. The government also suggested a broad five-fold strategy of Test Track-Treat-Vaccination and adherence to Covid-appropriate behaviour, to keep the pandemic under control.\\n', '\\n', '\"I am sure that under your continued leadership the state and UT will continue to address the challenge of Covid-19 while minimising its impact on lives and livelihood of the people,\" the health secretary said.\\n', '\\n', 'India was hit by the third wave of Covid-19 late December last year during which the number of daily cases rose exponentially. In view of the upward trajectory, certain states had imposed additional restrictions including night and weekend curfews, cap on number of people allowed at weddings and other social gatherings etc.']\n",
      "He also underlined that all states and UTs must continue to monitor the situation and the Covid trajectory on a daily basis. The government also suggested a broad five-fold strategy of Test Track-Treat-Vaccination and adherence to Covid-appropriate behaviour, to keep the pandemic under control.\n",
      "\n",
      "\"I am sure that under your continued leadership the state and UT will continue to address the challenge of Covid-19 while minimising its impact on lives and livelihood of the people,\" the health secretary said.\n",
      "\n",
      "India was hit by the third wave of Covid-19 late December last year during which the number of daily cases rose exponentially. In view of the upward trajectory, certain states had imposed additional restrictions including night and weekend curfews, cap on number of people allowed at weddings and other social gatherings etc.\n"
     ]
    }
   ],
   "source": [
    "fileName = \"story.txt\"\n",
    "\n",
    "try:\n",
    "    with open(fileName, \"r\") as f:\n",
    "        text = f.readlines()\n",
    "    print(text)\n",
    "    for i in text:\n",
    "        if i != '\\n':\n",
    "            print(i)\n",
    "        \n",
    "except Exception as e:\n",
    "    print(\"Raised Exception {0}\".format(e))"
   ]
  },
  {
   "cell_type": "code",
   "execution_count": 7,
   "id": "1f098617",
   "metadata": {},
   "outputs": [
    {
     "name": "stdout",
     "output_type": "stream",
     "text": [
      "He also underlined that all states and UTs must continue to monitor the situation and the Covid trajectory on a daily basis. The government also suggested a broad five-fold strategy of Test Track-Treat-Vaccination and adherence to Covid-appropriate behaviour, to keep the pandemic under control.\n",
      "\n",
      "\"I am sure that under your continued leadership the state and UT will continue to address the challenge of Covid-19 while minimising its impact on lives and livelihood of the people,\" the health secretary said.\n",
      "\n",
      "India was hit by the third wave of Covid-19 late December last year during which the number of daily cases rose exponentially. In view of the upward trajectory, certain states had imposed additional restrictions including night and weekend curfews, cap on number of people allowed at weddings and other social gatherings etc.\n"
     ]
    }
   ],
   "source": [
    "fileName = \"story.txt\"\n",
    "\n",
    "try:\n",
    "    with open(fileName, \"r\") as f:\n",
    "        text = f.read()\n",
    "    print(text)\n",
    "        \n",
    "except Exception as e:\n",
    "    print(\"Raised Exception {0}\".format(e))"
   ]
  },
  {
   "cell_type": "code",
   "execution_count": null,
   "id": "321d5b87",
   "metadata": {},
   "outputs": [],
   "source": []
  }
 ],
 "metadata": {
  "kernelspec": {
   "display_name": "Python 3",
   "language": "python",
   "name": "python3"
  },
  "language_info": {
   "codemirror_mode": {
    "name": "ipython",
    "version": 3
   },
   "file_extension": ".py",
   "mimetype": "text/x-python",
   "name": "python",
   "nbconvert_exporter": "python",
   "pygments_lexer": "ipython3",
   "version": "3.8.8"
  }
 },
 "nbformat": 4,
 "nbformat_minor": 5
}
