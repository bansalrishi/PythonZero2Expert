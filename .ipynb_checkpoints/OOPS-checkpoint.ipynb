{
 "cells": [
  {
   "cell_type": "code",
   "execution_count": 51,
   "metadata": {},
   "outputs": [
    {
     "name": "stdout",
     "output_type": "stream",
     "text": [
      "inside Dog\n",
      "5\n",
      "inside Cat\n",
      "-1\n",
      "inside Other\n",
      "7\n"
     ]
    }
   ],
   "source": [
    "#Multiple Inheritance\n",
    "\n",
    "class Dog:        \n",
    "    def __init__(self):\n",
    "        pass\n",
    "    def sum(self, a,b):\n",
    "        print(\"inside Dog\")\n",
    "        return a + b\n",
    "class Cat:\n",
    "    def __init__(self):\n",
    "        pass    \n",
    "    def sum(self, a, b):\n",
    "        print(\"inside Cat\")\n",
    "        return a - b\n",
    "class Other(Cat):\n",
    "    def sum(self, a, b):\n",
    "        print(\"inside Other\")\n",
    "        return a + a + b\n",
    "\n",
    "a = Other()\n",
    "print(Dog.sum(a,2,3))\n",
    "print(Cat.sum(a,2,3))\n",
    "print(a.sum(2,3))\n"
   ]
  },
  {
   "cell_type": "code",
   "execution_count": 3,
   "metadata": {},
   "outputs": [
    {
     "name": "stdout",
     "output_type": "stream",
     "text": [
      "German Shepard\n",
      "Mike\n"
     ]
    }
   ],
   "source": [
    "#create a class with constructor\n",
    "class Dog:\n",
    "    def __init__(self, breed):\n",
    "        self.breed = breed\n",
    "spencer = Dog(\"German Shepard\")\n",
    "print(spencer.breed)\n",
    "\n",
    "class person:\n",
    "    def __init__(self, age, name):\n",
    "        self.age = age\n",
    "        self.name = name\n",
    "mike = person(10, \"Mike\")\n",
    "print(mike.name)"
   ]
  },
  {
   "cell_type": "code",
   "execution_count": 4,
   "metadata": {},
   "outputs": [
    {
     "name": "stdout",
     "output_type": "stream",
     "text": [
      "37\n",
      "98.60000000000001\n"
     ]
    }
   ],
   "source": [
    "# Basic method of setting and getting attributes in Python\n",
    "class Celsius:\n",
    "    def __init__(self, temperature=0):\n",
    "        self.temperature = temperature\n",
    "\n",
    "    def to_fahrenheit(self):\n",
    "        return (self.temperature * 1.8) + 32\n",
    "\n",
    "\n",
    "# Create a new object\n",
    "human = Celsius()\n",
    "\n",
    "# Set the temperature\n",
    "human.temperature = 37\n",
    "\n",
    "# Get the temperature attribute\n",
    "print(human.temperature)\n",
    "\n",
    "# Get the to_fahrenheit method\n",
    "print(human.to_fahrenheit())"
   ]
  },
  {
   "cell_type": "code",
   "execution_count": 5,
   "metadata": {},
   "outputs": [],
   "source": [
    "# Making Getters and Setter methods\n",
    "# An underscore _ at the beginning is used to denote private variables in Python.\n",
    "class Celsius:\n",
    "    def __init__(self, temperature=0):\n",
    "        self.set_temperature(temperature)\n",
    "\n",
    "    def to_fahrenheit(self):\n",
    "        return (self.get_temperature() * 1.8) + 32\n",
    "\n",
    "    # getter method\n",
    "    def get_temperature(self):\n",
    "        return self._temperature\n",
    "\n",
    "    # setter method\n",
    "    def set_temperature(self, value):\n",
    "        if value < -273.15:\n",
    "            raise ValueError(\"Temperature below -273.15 is not possible.\")\n",
    "        self._temperature = value"
   ]
  },
  {
   "cell_type": "code",
   "execution_count": 52,
   "metadata": {},
   "outputs": [
    {
     "name": "stdout",
     "output_type": "stream",
     "text": [
      "8\n",
      "15\n"
     ]
    }
   ],
   "source": [
    "#Polymorphism - same function name (but different signatures) being uses for different types\n",
    "def add(a, b, c = 0): \n",
    "    return a + b +c\n",
    "  \n",
    "# Driver code \n",
    "print(add(3, 5))\n",
    "print(add(3, 5, 7))\n",
    "\n",
    "#Polymorphism with inheritance (same method in child class)"
   ]
  },
  {
   "cell_type": "code",
   "execution_count": null,
   "metadata": {},
   "outputs": [],
   "source": []
  }
 ],
 "metadata": {
  "kernelspec": {
   "display_name": "Python 3",
   "language": "python",
   "name": "python3"
  },
  "language_info": {
   "codemirror_mode": {
    "name": "ipython",
    "version": 3
   },
   "file_extension": ".py",
   "mimetype": "text/x-python",
   "name": "python",
   "nbconvert_exporter": "python",
   "pygments_lexer": "ipython3",
   "version": "3.8.5"
  }
 },
 "nbformat": 4,
 "nbformat_minor": 2
}
