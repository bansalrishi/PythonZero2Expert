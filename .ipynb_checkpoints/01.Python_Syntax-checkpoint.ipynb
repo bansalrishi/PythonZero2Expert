{
 "cells": [
  {
   "cell_type": "markdown",
   "metadata": {},
   "source": [
    "# Topics Covered\n",
    "## Python Syntax\n",
    "1. Print\n",
    "2. Variables\n",
    "3. Boolean\n",
    "4. Reassigning a value\n",
    "5. Whitespace (Lines and Indentation)\n",
    "6. Single Line Comments\n",
    "7. Multi-Line Comments\n",
    "8. Math\n",
    "9. Modulo\n",
    "10. Various Ways of printing"
   ]
  },
  {
   "cell_type": "markdown",
   "metadata": {},
   "source": [
    "## 1. Print\n",
    "- First Program\n"
   ]
  },
  {
   "cell_type": "code",
   "execution_count": 1,
   "metadata": {},
   "outputs": [
    {
     "name": "stdout",
     "output_type": "stream",
     "text": [
      "Hello World\n"
     ]
    }
   ],
   "source": [
    "print(\"Hello World\")"
   ]
  },
  {
   "cell_type": "markdown",
   "metadata": {},
   "source": [
    "## 2. Variables\n",
    "\n",
    "A variable stores a piece of data  \n",
    "For example:  \n",
    "my_var = 5  \n",
    "The variable my_var now stores the number 5\n"
   ]
  },
  {
   "cell_type": "code",
   "execution_count": 1,
   "metadata": {},
   "outputs": [
    {
     "name": "stdout",
     "output_type": "stream",
     "text": [
      "my_var\n",
      "10\n"
     ]
    }
   ],
   "source": [
    "my_var = 10\n",
    "print(\"my_var\")\n",
    "print(my_var)"
   ]
  },
  {
   "cell_type": "markdown",
   "metadata": {},
   "source": [
    "## 3. Boolean\n",
    "- Numbers are one data type we use in programming. A second data type is called a boolean.   \n",
    "- A boolean is like a light switch. It can only have two values. Just like a light switch can only be on or off, a boolean can only be True or False.  \n",
    "- You can use variables to store booleans like this:  \n",
    "a = True  \n",
    "b = False  \n"
   ]
  },
  {
   "cell_type": "code",
   "execution_count": 6,
   "metadata": {},
   "outputs": [
    {
     "name": "stdout",
     "output_type": "stream",
     "text": [
      "True\n"
     ]
    }
   ],
   "source": [
    "# assigning var to true will give error, correct one is True\n",
    "my_bool = \"true\"\n",
    "my_bool = True\n",
    "print(my_bool)"
   ]
  },
  {
   "cell_type": "markdown",
   "metadata": {},
   "source": [
    "## 4. Reassigning a value\n",
    "Say my_var = 5. You can change the value of a variable by \"reassigning\" it, like this:  \n",
    "my_int = 2  \n"
   ]
  },
  {
   "cell_type": "code",
   "execution_count": 7,
   "metadata": {},
   "outputs": [
    {
     "name": "stdout",
     "output_type": "stream",
     "text": [
      "5\n",
      "2\n"
     ]
    }
   ],
   "source": [
    "my_var = 5\n",
    "print(my_var)\n",
    "\n",
    "my_var = 2\n",
    "print(my_var)"
   ]
  },
  {
   "cell_type": "markdown",
   "metadata": {},
   "source": [
    "## 5. Whitespace (Lines and Indentation)\n",
    "The number of spaces in the indentation is variable, but all statements within the block must be indented the same amount. "
   ]
  },
  {
   "cell_type": "code",
   "execution_count": 13,
   "metadata": {},
   "outputs": [
    {
     "name": "stdout",
     "output_type": "stream",
     "text": [
      "Answer\n",
      "True\n"
     ]
    }
   ],
   "source": [
    "if True:\n",
    "    print (\"Answer\")\n",
    "    print (\"True\")\n",
    "else:\n",
    "    print (\"Answer\")\n",
    "    print (\"False\")\n"
   ]
  },
  {
   "cell_type": "markdown",
   "metadata": {},
   "source": [
    "## 6. Single Line Comments\n",
    "The # sign is for comments. A comment is a line of text that Python won't run as code. It's just for humans to comment and read."
   ]
  },
  {
   "cell_type": "code",
   "execution_count": 14,
   "metadata": {},
   "outputs": [
    {
     "name": "stdout",
     "output_type": "stream",
     "text": [
      "5\n"
     ]
    }
   ],
   "source": [
    "my_var = 5\n",
    "#This is to print the my_var value\n",
    "print(my_var)"
   ]
  },
  {
   "cell_type": "markdown",
   "metadata": {},
   "source": [
    "## 7. Multi-Line Comments\n",
    "Instead, for multi-line comments, you can include the whole block in a set of triple quotation marks:"
   ]
  },
  {
   "cell_type": "code",
   "execution_count": 17,
   "metadata": {},
   "outputs": [
    {
     "name": "stdout",
     "output_type": "stream",
     "text": [
      "5\n"
     ]
    }
   ],
   "source": [
    "my_var = 5\n",
    "\n",
    "'''This is a multi line comment\n",
    "This is to print the my_var value\n",
    "Its now completed'''\n",
    "\n",
    "print(my_var)"
   ]
  },
  {
   "cell_type": "markdown",
   "metadata": {},
   "source": [
    "## 8. Math\n",
    "addition = 12 + 13   \n",
    "subtraction = 124 - 254    \n",
    "multiplication = 124 * 0.5  \n",
    "division = 99 / 9  \n",
    "eight = 2 ** 3  "
   ]
  },
  {
   "cell_type": "code",
   "execution_count": 24,
   "metadata": {},
   "outputs": [
    {
     "name": "stdout",
     "output_type": "stream",
     "text": [
      "25\n",
      "-130\n",
      "62.0\n",
      "11.0\n",
      "8\n"
     ]
    }
   ],
   "source": [
    "addition = 12 + 13\n",
    "print(addition)\n",
    "subtraction = 124 - 254\n",
    "print(subtraction)\n",
    "multiplication = 124 * 0.5\n",
    "print(multiplication)\n",
    "division = 99 / 9\n",
    "print(division)\n",
    "power = 2 ** 3 \n",
    "print(power)"
   ]
  },
  {
   "cell_type": "markdown",
   "metadata": {},
   "source": [
    "## 9. Modulo\n",
    "Modulo returns the remainder from a division. So, if you type 3 % 2, it will return 1, because 2 goes into 3 evenly once, with 1 left over.  "
   ]
  },
  {
   "cell_type": "code",
   "execution_count": 25,
   "metadata": {},
   "outputs": [
    {
     "name": "stdout",
     "output_type": "stream",
     "text": [
      "1\n"
     ]
    }
   ],
   "source": [
    "my_mod = 5 % 2\n",
    "print(my_mod)"
   ]
  },
  {
   "cell_type": "markdown",
   "metadata": {},
   "source": [
    "## 10. Various ways of printing\n",
    "printing with comment and variables"
   ]
  },
  {
   "cell_type": "code",
   "execution_count": 34,
   "metadata": {},
   "outputs": [
    {
     "name": "stdout",
     "output_type": "stream",
     "text": [
      "Value of my_var is 5 and my_mod=1\n",
      "**********\n",
      "Value of my_var is 5 and my_mod=1\n"
     ]
    }
   ],
   "source": [
    "my_var = 5\n",
    "my_mod = 5 % 2\n",
    "print(\"Value of my_var is {0} and my_mod={1}\".format(my_var,my_mod))\n",
    "print(\"**********\")\n",
    "print(\"Value of my_var is %s and my_mod=%s\"%(my_var,my_mod))"
   ]
  },
  {
   "cell_type": "code",
   "execution_count": null,
   "metadata": {},
   "outputs": [],
   "source": []
  }
 ],
 "metadata": {
  "kernelspec": {
   "display_name": "Python 3",
   "language": "python",
   "name": "python3"
  },
  "language_info": {
   "codemirror_mode": {
    "name": "ipython",
    "version": 3
   },
   "file_extension": ".py",
   "mimetype": "text/x-python",
   "name": "python",
   "nbconvert_exporter": "python",
   "pygments_lexer": "ipython3",
   "version": "3.6.6"
  }
 },
 "nbformat": 4,
 "nbformat_minor": 2
}
