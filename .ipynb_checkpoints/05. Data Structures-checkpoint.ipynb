{
 "cells": [
  {
   "cell_type": "markdown",
   "metadata": {},
   "source": [
    "#### Data Structure\n",
    "- structure which holds some data together or use to store collection of related data\n",
    "\n",
    "**Built-In Data Structures**\n",
    "1. Lists\n",
    "2. Tuples\n",
    "3. Dictionaries\n",
    "4. Strings\n",
    "5. Sets\n",
    "6. Frozensets"
   ]
  },
  {
   "cell_type": "markdown",
   "metadata": {},
   "source": [
    "- Lists, strings and tuples are ordered sequences of objects.\n",
    "- Strings contain only characters.\n",
    "- List and tuples can contain any type of objects.\n",
    "- Lists are mutables so they can be extended or reduced at will.\n",
    "- Tuples like strings are immutables.\n",
    "- Lists and tuples are like arrays.\n",
    "- Sets are mutable unordered sequence of unique elements whereas frozensets are immutable sets.\n"
   ]
  },
  {
   "cell_type": "markdown",
   "metadata": {},
   "source": [
    "## 1. Lists\n",
    "- Ordered Sequence of objects\n",
    "- can contain any type of objects (e.g: int, float, str, etc)\n",
    "- mutables (can be extended or reduced at anytime)\n",
    "- same as arrays\n",
    "- syntax -> [1,4,5.7, \"hindi\", \"english\"]"
   ]
  },
  {
   "cell_type": "code",
   "execution_count": 5,
   "metadata": {},
   "outputs": [
    {
     "name": "stdout",
     "output_type": "stream",
     "text": [
      "[1, 4, 5.7, 'hindi', 'english']\n",
      "<class 'int'>\n",
      "<class 'float'>\n",
      "<class 'str'>\n",
      "[1, 4, 5, 7, 9]\n"
     ]
    }
   ],
   "source": [
    "list_1 = [1,4,5.7, \"hindi\", \"english\"]\n",
    "list_2 = [ 1, 4, 5, 7, 9]\n",
    "\n",
    "print(list_1)\n",
    "print(type(list_1[0]))\n",
    "print(type(list_1[2]))\n",
    "print(type(list_1[3]))\n",
    "print(list_2)"
   ]
  },
  {
   "cell_type": "markdown",
   "metadata": {},
   "source": [
    "**Accessing Values - Lists**\n",
    "- print selective values - slicing\n",
    "- updating list\n",
    "- deleting from list"
   ]
  },
  {
   "cell_type": "code",
   "execution_count": 3,
   "metadata": {},
   "outputs": [
    {
     "name": "stdout",
     "output_type": "stream",
     "text": [
      "list_1[0]:  World\n",
      "list_2[1:7]:  [2, 3, 4, 5, 6, 7]\n",
      "list_1:  ['hindi', 2021]\n"
     ]
    }
   ],
   "source": [
    "list_1 = ['World', 'hindi', 2021, 2020]\n",
    "list_2 = [1, 2, 3, 4, 5, 6, 7, 8, 9]\n",
    "\n",
    "print (\"list_1[0]: \", list_1[0])\n",
    "print (\"list_2[1:7]: \", list_2[1:7])\n",
    "\n",
    "list_2[3] = 2012\n",
    "del list_1[3]   \n",
    "list_1.remove(\"World\")\n",
    "print (\"list_1: \", list_1)\n"
   ]
  },
  {
   "cell_type": "markdown",
   "metadata": {},
   "source": [
    "**Appending - Lists**\n",
    "- length of list is not fixed, we can add an item at the end of the list"
   ]
  },
  {
   "cell_type": "code",
   "execution_count": 6,
   "metadata": {},
   "outputs": [
    {
     "name": "stdout",
     "output_type": "stream",
     "text": [
      "4\n",
      "[1, 2, 3, 4]\n"
     ]
    }
   ],
   "source": [
    "count = [1, 2, 3]\n",
    "count.append(4)\n",
    "print (len(count))\n",
    "print (count)\n"
   ]
  },
  {
   "cell_type": "markdown",
   "metadata": {},
   "source": [
    "**Extending - Lists**\n",
    "- in case we have several items contained in a list to add at a time, we need to use extend"
   ]
  },
  {
   "cell_type": "code",
   "execution_count": 7,
   "metadata": {},
   "outputs": [
    {
     "name": "stdout",
     "output_type": "stream",
     "text": [
      "4\n",
      "[1, 2, 3, [4, 5, 6]]\n"
     ]
    }
   ],
   "source": [
    "#using append\n",
    "count = [1, 2, 3]\n",
    "count.append([4, 5, 6])\n",
    "print (len(count))\n",
    "print (count)"
   ]
  },
  {
   "cell_type": "code",
   "execution_count": 8,
   "metadata": {},
   "outputs": [
    {
     "name": "stdout",
     "output_type": "stream",
     "text": [
      "6\n",
      "[1, 2, 3, 4, 5, 6]\n"
     ]
    }
   ],
   "source": [
    "#using extend\n",
    "count = [1, 2, 3]\n",
    "count.extend([4, 5, 6])\n",
    "print (len(count))\n",
    "print (count)"
   ]
  },
  {
   "cell_type": "markdown",
   "metadata": {},
   "source": [
    "**Lists - Order**\n",
    "- searching an item in the list"
   ]
  },
  {
   "cell_type": "code",
   "execution_count": 9,
   "metadata": {},
   "outputs": [
    {
     "name": "stdout",
     "output_type": "stream",
     "text": [
      "1\n"
     ]
    }
   ],
   "source": [
    "animals = [\"lion\", \"tiger\", \"monkey\"]\n",
    "print (animals.index(\"tiger\"))\n"
   ]
  },
  {
   "cell_type": "code",
   "execution_count": 11,
   "metadata": {},
   "outputs": [
    {
     "name": "stdout",
     "output_type": "stream",
     "text": [
      "['lion', 'wolf', 'tiger', 'monkey']\n"
     ]
    }
   ],
   "source": [
    "#Inserting item at specific place in a list\n",
    "animals.insert(1, \"wolf\")\n",
    "print (animals)\n"
   ]
  },
  {
   "cell_type": "markdown",
   "metadata": {},
   "source": [
    "**Lists - Accessing elements by loop**"
   ]
  },
  {
   "cell_type": "code",
   "execution_count": 14,
   "metadata": {},
   "outputs": [
    {
     "name": "stdout",
     "output_type": "stream",
     "text": [
      "1\n",
      "2\n",
      "3\n",
      "4\n",
      "5\n",
      "6\n",
      "7\n",
      "8\n",
      "9\n"
     ]
    }
   ],
   "source": [
    "list_1 = [1, 2, 3, 4, 5, 6, 7, 8, 9]\n",
    "for i in list_1:\n",
    "    print(i)\n"
   ]
  },
  {
   "cell_type": "markdown",
   "metadata": {},
   "source": [
    "**Lists - Copy a List**"
   ]
  },
  {
   "cell_type": "code",
   "execution_count": 21,
   "metadata": {},
   "outputs": [
    {
     "name": "stdout",
     "output_type": "stream",
     "text": [
      "list_2:  [1, 2, 3, 4, 5, 6, 7, 8, 9]\n",
      "list_3:  [1, 2, 3, 4, 5, 6, 7, 8, 9]\n",
      "list_4:  [1, 2, 3, 4, 5, 6, 7, 8, 9]\n",
      "list_4:  [1, 2, 3, 4, 5, 6, 7, 8, 9, 10]\n",
      "list_2:  [1, 2, 3, 4, 5, 6, 7, 8, 9]\n"
     ]
    }
   ],
   "source": [
    "list_1 = [1, 2, 3, 4, 5, 6, 7, 8, 9]\n",
    "#Method 1\n",
    "list_2 = list(list_1)\n",
    "print(\"list_2: \", list_2)\n",
    "\n",
    "#Method 2\n",
    "list_3 = list_1[:]\n",
    "print(\"list_3: \", list_3)\n",
    "\n",
    "#Dont copy like below as it will create a reference not a copy\n",
    "list_4 = list_1\n",
    "print(\"list_4: \", list_4)\n",
    "list_1.append(10)\n",
    "print(\"list_4: \", list_4)\n",
    "print(\"list_2: \", list_2)"
   ]
  },
  {
   "cell_type": "markdown",
   "metadata": {},
   "source": [
    "**List Comprehensions**"
   ]
  },
  {
   "cell_type": "code",
   "execution_count": null,
   "metadata": {},
   "outputs": [],
   "source": []
  }
 ],
 "metadata": {
  "kernelspec": {
   "display_name": "Python 3",
   "language": "python",
   "name": "python3"
  },
  "language_info": {
   "codemirror_mode": {
    "name": "ipython",
    "version": 3
   },
   "file_extension": ".py",
   "mimetype": "text/x-python",
   "name": "python",
   "nbconvert_exporter": "python",
   "pygments_lexer": "ipython3",
   "version": "3.6.6"
  }
 },
 "nbformat": 4,
 "nbformat_minor": 2
}
