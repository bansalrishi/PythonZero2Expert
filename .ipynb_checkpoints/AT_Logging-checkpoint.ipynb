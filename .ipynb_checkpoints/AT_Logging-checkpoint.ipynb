{
 "cells": [
  {
   "cell_type": "markdown",
   "metadata": {},
   "source": [
    "## Configure to log message to file and console with different category"
   ]
  },
  {
   "cell_type": "code",
   "execution_count": 2,
   "metadata": {},
   "outputs": [
    {
     "name": "stderr",
     "output_type": "stream",
     "text": [
      "myapp.service2 : WARNING    Service 2 developing issues, please check\n",
      "myapp.service2 : WARNING    Service 2 developing issues, please check\n",
      "myapp.service2 : ERROR      Service 2 has failed\n",
      "myapp.service2 : ERROR      Service 2 has failed\n"
     ]
    }
   ],
   "source": [
    "import logging\n",
    "\n",
    "#Configure logging to a file\n",
    "logging.basicConfig(level=logging.DEBUG,\n",
    "                    format='[%(asctime)s] %(name)-15s %(levelname)-10s %(message)s',\n",
    "                    datefmt='%m-%d %H:%M',\n",
    "                    filename='temp/myapp.log',\n",
    "                    filemode='w')\n",
    "# define a Handler which writes WARNING messages or higher to the sys.stderr\n",
    "console = logging.StreamHandler()\n",
    "console.setLevel(logging.WARNING)\n",
    "# set a format which is simpler for console use\n",
    "formatter = logging.Formatter('%(name)-15s: %(levelname)-10s %(message)s')\n",
    "#configure the handler to use this format\n",
    "console.setFormatter(formatter)\n",
    "#add handler to the root logger\n",
    "logging.getLogger('').addHandler(console)\n",
    "\n",
    "# Now, we can log to the root logger, or any other logger. First the root...\n",
    "logging.info('This is just an INFO message')\n",
    "\n",
    "# Declare some other loggers which might represent areas in the\n",
    "# application:\n",
    "\n",
    "logger_1 = logging.getLogger('myapp.service1')\n",
    "logger_2 = logging.getLogger('myapp.service2')\n",
    "\n",
    "logger_1.debug('Service 1 is not wokring as expected')\n",
    "logger_1.info('Service 1 completed configuration')\n",
    "logger_2.warning('Service 2 developing issues, please check')\n",
    "logger_2.error('Service 2 has failed')"
   ]
  },
  {
   "cell_type": "code",
   "execution_count": null,
   "metadata": {},
   "outputs": [],
   "source": []
  },
  {
   "cell_type": "code",
   "execution_count": null,
   "metadata": {},
   "outputs": [],
   "source": []
  }
 ],
 "metadata": {
  "kernelspec": {
   "display_name": "Python 3",
   "language": "python",
   "name": "python3"
  },
  "language_info": {
   "codemirror_mode": {
    "name": "ipython",
    "version": 3
   },
   "file_extension": ".py",
   "mimetype": "text/x-python",
   "name": "python",
   "nbconvert_exporter": "python",
   "pygments_lexer": "ipython3",
   "version": "3.8.5"
  }
 },
 "nbformat": 4,
 "nbformat_minor": 4
}
