{
 "cells": [
  {
   "cell_type": "markdown",
   "metadata": {},
   "source": [
    "# Topics\n",
    "- What is Multi-threading\n",
    "- Limitation - Global Interpreter Lock(GIL)"
   ]
  },
  {
   "cell_type": "code",
   "execution_count": 3,
   "metadata": {},
   "outputs": [
    {
     "name": "stdout",
     "output_type": "stream",
     "text": [
      "Thread-1:  Sum: 30\n",
      "Thread-2:  Difference: -15\n",
      "All Done!\n"
     ]
    }
   ],
   "source": [
    "#Implement Multi-Threading in Python\n",
    "import threading\n",
    "  \n",
    "def cal_sum(thread, a, b):\n",
    "    \"\"\"\n",
    "    Function to calculate sum \n",
    "    \"\"\"\n",
    "    print(\"{}:  Sum: {}\".format(thread, a + b))\n",
    "\n",
    "def cal_diff(thread, a, b):\n",
    "    \"\"\"\n",
    "    Function to calculate diff\n",
    "    \"\"\"\n",
    "    print(\"{}:  Difference: {}\".format(thread, a -b))\n",
    "\n",
    "if __name__ == \"__main__\":\n",
    "    # creating thread\n",
    "    t1 = threading.Thread(target=cal_sum, args=(\"Thread-1\", 10, 20))\n",
    "    t2 = threading.Thread(target=cal_diff, args=(\"Thread-2\", 10, 25))\n",
    "  \n",
    "    # starting thread 1\n",
    "    t1.start()\n",
    "    # starting thread 2\n",
    "    t2.start()\n",
    "  \n",
    "    # wait until thread 1 finishes off\n",
    "    t1.join()\n",
    "    # wait until thread 2 finishes off\n",
    "    t2.join()\n",
    "  \n",
    "    # both threads finishes off\n",
    "    print(\"All Done!\")"
   ]
  },
  {
   "cell_type": "markdown",
   "metadata": {},
   "source": [
    "## Limitation - GIL\n",
    "\n",
    "- Good for concurrent I/O programming. \n",
    "- Threads are cleared out of CPU as they block waiting for input from file, network,etc.\n",
    "- However, threads in python are serialized by GIL in the interpreter core. So, only one can run at a time, so it can' take the advantage of multi-core multi-processor architecture."
   ]
  },
  {
   "cell_type": "code",
   "execution_count": null,
   "metadata": {},
   "outputs": [],
   "source": []
  }
 ],
 "metadata": {
  "kernelspec": {
   "display_name": "Python 3",
   "language": "python",
   "name": "python3"
  },
  "language_info": {
   "codemirror_mode": {
    "name": "ipython",
    "version": 3
   },
   "file_extension": ".py",
   "mimetype": "text/x-python",
   "name": "python",
   "nbconvert_exporter": "python",
   "pygments_lexer": "ipython3",
   "version": "3.8.5"
  }
 },
 "nbformat": 4,
 "nbformat_minor": 4
}
