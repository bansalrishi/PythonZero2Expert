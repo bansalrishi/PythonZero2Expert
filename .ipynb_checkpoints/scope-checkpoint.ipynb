{
 "cells": [
  {
   "cell_type": "code",
   "execution_count": 1,
   "metadata": {},
   "outputs": [
    {
     "name": "stdout",
     "output_type": "stream",
     "text": [
      "dict_keys(['__name__', '__doc__', '__package__', '__loader__', '__spec__', '__file__', '__cached__', '__builtins__', '_warn', '_log', '_exp', '_pi', '_e', '_ceil', '_sqrt', '_acos', '_cos', '_sin', '_urandom', '_Set', '_Sequence', '_accumulate', '_repeat', '_bisect', '_os', '_sha512', '__all__', 'NV_MAGICCONST', 'TWOPI', 'LOG4', 'SG_MAGICCONST', 'BPF', 'RECIP_BPF', '_random', 'Random', 'SystemRandom', '_test_generator', '_test', '_inst', 'seed', 'random', 'uniform', 'triangular', 'randint', 'choice', 'randrange', 'sample', 'shuffle', 'choices', 'normalvariate', 'lognormvariate', 'expovariate', 'vonmisesvariate', 'gammavariate', 'gauss', 'betavariate', 'paretovariate', 'weibullvariate', 'getstate', 'setstate', 'getrandbits'])\n"
     ]
    }
   ],
   "source": [
    "import random\n",
    "#This returns list with all names defined at the top level of the module\n",
    "#.__dict__ holds the namespace of random \n",
    "print(random.__dict__.keys())"
   ]
  },
  {
   "cell_type": "code",
   "execution_count": 3,
   "metadata": {},
   "outputs": [
    {
     "name": "stdout",
     "output_type": "stream",
     "text": [
      "27\n",
      "48\n"
     ]
    }
   ],
   "source": [
    "#can use randint in two ways\n",
    "#1\n",
    "print(random.randint(10,90))\n",
    "#2\n",
    "print(random.__dict__['randint'](10,90))\n"
   ]
  },
  {
   "cell_type": "code",
   "execution_count": 4,
   "metadata": {},
   "outputs": [
    {
     "name": "stdout",
     "output_type": "stream",
     "text": [
      "3\n",
      "1 2 5\n",
      "4\n"
     ]
    }
   ],
   "source": [
    "class Difference:\n",
    "    def __init__(self, a):\n",
    "        self.__elements = a\n",
    "\n",
    "\t# Add your code here\n",
    "    maximumDifference = 0\n",
    "    def computeDifference(self):\n",
    "        localMax = 0\n",
    "        globMax = 0\n",
    "        for i in range(len(self.__elements)):\n",
    "            j = i + 1\n",
    "            while j < len(self.__elements):\n",
    "                localMax = abs(self.__elements[i] - self.__elements[j])\n",
    "                j +=1\n",
    "                if globMax < localMax:\n",
    "                    globMax = localMax\n",
    "        self.maximumDifference = globMax\n",
    "# End of Difference class\n",
    "\n",
    "_ = input()\n",
    "a = [int(e) for e in input().split(' ')]\n",
    "\n",
    "d = Difference(a)\n",
    "d.computeDifference()\n",
    "\n",
    "print(d.maximumDifference)"
   ]
  },
  {
   "cell_type": "code",
   "execution_count": null,
   "metadata": {},
   "outputs": [],
   "source": []
  }
 ],
 "metadata": {
  "kernelspec": {
   "display_name": "Python 3",
   "language": "python",
   "name": "python3"
  },
  "language_info": {
   "codemirror_mode": {
    "name": "ipython",
    "version": 3
   },
   "file_extension": ".py",
   "mimetype": "text/x-python",
   "name": "python",
   "nbconvert_exporter": "python",
   "pygments_lexer": "ipython3",
   "version": "3.8.5"
  }
 },
 "nbformat": 4,
 "nbformat_minor": 4
}
