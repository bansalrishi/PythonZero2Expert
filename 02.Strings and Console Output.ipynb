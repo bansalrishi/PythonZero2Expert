{
 "cells": [
  {
   "cell_type": "markdown",
   "metadata": {},
   "source": [
    "# Topics Covered\n",
    "## Strings and Console Output\n",
    "1. Strings\n",
    "2. Escaping characters\n",
    "3. Access by Index\n",
    "4. String methods\n",
    "5. Dot Notation\n",
    "6. Printing Variables\n",
    "7. String Concatenation\n",
    "8. The datetime Library\n"
   ]
  },
  {
   "cell_type": "markdown",
   "metadata": {},
   "source": [
    "### 1. Strings\n",
    "- Data type\n",
    "- A string can contain letters, numbers, and symbols.\n",
    "- Strings need to be within quotes"
   ]
  },
  {
   "cell_type": "code",
   "execution_count": 2,
   "metadata": {},
   "outputs": [
    {
     "name": "stdout",
     "output_type": "stream",
     "text": [
      "Bunty 19 Roti\n"
     ]
    }
   ],
   "source": [
    "name = \"Bunty\"\n",
    "age = \"19\"\n",
    "food = \"Roti\"\n",
    "\n",
    "print(name, age, food)\n"
   ]
  },
  {
   "cell_type": "markdown",
   "metadata": {},
   "source": [
    "### 2. Escaping characters\n",
    "\n",
    "- There are some characters that cause problems. For example:  \n",
    "'There's a dog in my house!'\n",
    "- This code breaks because Python thinks the apostrophe in 'There's' ends the string. \n",
    "- We can use the backslash to fix the problem, like this:  \n",
    "'There\\'s a snake in my boot!'\n"
   ]
  },
  {
   "cell_type": "code",
   "execution_count": 4,
   "metadata": {},
   "outputs": [
    {
     "name": "stdout",
     "output_type": "stream",
     "text": [
      "There's a dog in my house!\n"
     ]
    }
   ],
   "source": [
    "print('There\\'s a dog in my house!')"
   ]
  },
  {
   "cell_type": "markdown",
   "metadata": {},
   "source": [
    "### 3. Access by Index\n",
    "- Each character in a string is assigned a number. This number is called the index.\n",
    "<img src=\"Image/string.png\" width=\"300\" />\n"
   ]
  },
  {
   "cell_type": "code",
   "execution_count": 9,
   "metadata": {},
   "outputs": [
    {
     "name": "stdout",
     "output_type": "stream",
     "text": [
      "h\n",
      "a\n"
     ]
    }
   ],
   "source": [
    "a = \"horse\"[0]\n",
    "n = \"ryan\"[2]\n",
    "print(a)\n",
    "print(n)"
   ]
  },
  {
   "cell_type": "markdown",
   "metadata": {},
   "source": [
    "### 4. String methods\n",
    "- String methods let you perform specific tasks for strings.\n",
    "<img src=\"Image/string1.png\" width=\"400\" />"
   ]
  },
  {
   "cell_type": "code",
   "execution_count": 20,
   "metadata": {},
   "outputs": [
    {
     "name": "stdout",
     "output_type": "stream",
     "text": [
      "5\n",
      "tiger\n",
      "TIGER\n",
      "<class 'str'>\n",
      "<class 'int'>\n",
      "<class 'str'>\n"
     ]
    }
   ],
   "source": [
    "animal = \"Tiger\"\n",
    "num = 5\n",
    "print(len(animal))\n",
    "print(animal.lower())\n",
    "print(animal.upper())\n",
    "print(type(animal))\n",
    "print(type(num))\n",
    "print(type(str(num)))"
   ]
  },
  {
   "cell_type": "markdown",
   "metadata": {},
   "source": [
    "### 5. Dot Notation\n",
    "- why you use len(string) and str(object), but dot notation (such as \"String\".upper()) for the rest\n",
    "\n",
    "- Methods that use dot notation only work with strings.\n",
    "- On the other hand, len() and str() can work on other data types.\n"
   ]
  },
  {
   "cell_type": "code",
   "execution_count": 22,
   "metadata": {},
   "outputs": [
    {
     "name": "stdout",
     "output_type": "stream",
     "text": [
      "27\n",
      "COMPUTER SCIENCE TECHNOLOGY\n"
     ]
    }
   ],
   "source": [
    "department = \"Computer Science technology\"\n",
    "print(len(department))\n",
    "print(department.upper())"
   ]
  },
  {
   "cell_type": "markdown",
   "metadata": {},
   "source": [
    "### 6. Printing Variables\n",
    "\n",
    "<img src=\"Image/print.png\" width=\"200\" />"
   ]
  },
  {
   "cell_type": "code",
   "execution_count": 26,
   "metadata": {},
   "outputs": [
    {
     "name": "stdout",
     "output_type": "stream",
     "text": [
      "bunty 5.4 5 5.400000 5.4\n"
     ]
    }
   ],
   "source": [
    "name ='bunty'\n",
    "number = 5.4\n",
    "print('%s %s %d %f %g' % (name, number, number, number, number))\n"
   ]
  },
  {
   "cell_type": "markdown",
   "metadata": {},
   "source": [
    "### 7. String Concatenation\n",
    "- Combining strings together called concatenation\n",
    "\n"
   ]
  },
  {
   "cell_type": "code",
   "execution_count": 49,
   "metadata": {},
   "outputs": [
    {
     "name": "stdout",
     "output_type": "stream",
     "text": [
      "Mein Hoon Na \n"
     ]
    }
   ],
   "source": [
    "print(\"Mein \" + \"Hoon \" + \"Na \")"
   ]
  },
  {
   "cell_type": "code",
   "execution_count": 51,
   "metadata": {},
   "outputs": [
    {
     "name": "stdout",
     "output_type": "stream",
     "text": [
      "I have 10 horses!\n"
     ]
    }
   ],
   "source": [
    "num = 10\n",
    "print(\"I have \" + \"%d\" % (num) + \" horses!\" )"
   ]
  },
  {
   "cell_type": "markdown",
   "metadata": {},
   "source": [
    "### 8. The datetime Library\n",
    "- The datetime Library"
   ]
  },
  {
   "cell_type": "code",
   "execution_count": 48,
   "metadata": {},
   "outputs": [
    {
     "name": "stdout",
     "output_type": "stream",
     "text": [
      "2020-05-12 07:47:50.838203\n"
     ]
    }
   ],
   "source": [
    "from datetime import datetime\n",
    "time_now = datetime.now()\n",
    "print (time_now)\n"
   ]
  },
  {
   "cell_type": "markdown",
   "metadata": {},
   "source": [
    "## 9. String len"
   ]
  },
  {
   "cell_type": "code",
   "execution_count": 1,
   "metadata": {},
   "outputs": [
    {
     "name": "stdout",
     "output_type": "stream",
     "text": [
      "5\n"
     ]
    }
   ],
   "source": [
    "name = \"mohan\"\n",
    "print(len(name))"
   ]
  },
  {
   "cell_type": "code",
   "execution_count": null,
   "metadata": {},
   "outputs": [],
   "source": []
  }
 ],
 "metadata": {
  "kernelspec": {
   "display_name": "Python 3",
   "language": "python",
   "name": "python3"
  },
  "language_info": {
   "codemirror_mode": {
    "name": "ipython",
    "version": 3
   },
   "file_extension": ".py",
   "mimetype": "text/x-python",
   "name": "python",
   "nbconvert_exporter": "python",
   "pygments_lexer": "ipython3",
   "version": "3.8.5"
  }
 },
 "nbformat": 4,
 "nbformat_minor": 2
}
