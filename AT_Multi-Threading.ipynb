{
 "cells": [
  {
   "cell_type": "markdown",
   "metadata": {},
   "source": [
    "# Topics\n",
    "- What is Multi-threading\n",
    "- Limitation - Global Interpreter Lock(GIL)"
   ]
  },
  {
   "cell_type": "markdown",
   "metadata": {},
   "source": [
    "## Limitation - GIL\n",
    "\n",
    "- Good for concurrent I/O programming. \n",
    "- Threads are cleared out of CPU as they block waiting for input from file, network,etc.\n",
    "- However, threads in python are serialized by GIL in the interpreter core. So, only one can run at a time, so it can' take the advantage of multi-core multi-processor architecture."
   ]
  },
  {
   "cell_type": "code",
   "execution_count": null,
   "metadata": {},
   "outputs": [],
   "source": []
  }
 ],
 "metadata": {
  "kernelspec": {
   "display_name": "Python 3",
   "language": "python",
   "name": "python3"
  },
  "language_info": {
   "codemirror_mode": {
    "name": "ipython",
    "version": 3
   },
   "file_extension": ".py",
   "mimetype": "text/x-python",
   "name": "python",
   "nbconvert_exporter": "python",
   "pygments_lexer": "ipython3",
   "version": "3.8.5"
  }
 },
 "nbformat": 4,
 "nbformat_minor": 4
}
