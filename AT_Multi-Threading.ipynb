{
 "cells": [
  {
   "cell_type": "markdown",
   "metadata": {},
   "source": [
    "# Topics\n",
    "- What is Multi-threading\n",
    "- Limitation - Global Interpreter Lock(GIL)"
   ]
  },
  {
   "cell_type": "code",
   "execution_count": 3,
   "metadata": {},
   "outputs": [
    {
     "name": "stdout",
     "output_type": "stream",
     "text": [
      "Thread-1:  Sum: 30\n",
      "Thread-2:  Difference: -15\n",
      "All Done!\n"
     ]
    }
   ],
   "source": [
    "#Implement Multi-Threading in Python\n",
    "import threading\n",
    "  \n",
    "def cal_sum(thread, a, b):\n",
    "    \"\"\"\n",
    "    Function to calculate sum \n",
    "    \"\"\"\n",
    "    print(\"{}:  Sum: {}\".format(thread, a + b))\n",
    "\n",
    "def cal_diff(thread, a, b):\n",
    "    \"\"\"\n",
    "    Function to calculate diff\n",
    "    \"\"\"\n",
    "    print(\"{}:  Difference: {}\".format(thread, a -b))\n",
    "\n",
    "if __name__ == \"__main__\":\n",
    "    # creating thread\n",
    "    t1 = threading.Thread(target=cal_sum, args=(\"Thread-1\", 10, 20))\n",
    "    t2 = threading.Thread(target=cal_diff, args=(\"Thread-2\", 10, 25))\n",
    "  \n",
    "    # starting thread 1\n",
    "    t1.start()\n",
    "    # starting thread 2\n",
    "    t2.start()\n",
    "  \n",
    "    # wait until thread 1 finishes off\n",
    "    t1.join()\n",
    "    # wait until thread 2 finishes off\n",
    "    t2.join()\n",
    "  \n",
    "    # both threads finishes off\n",
    "    print(\"All Done!\")"
   ]
  },
  {
   "cell_type": "markdown",
   "metadata": {},
   "source": [
    "## Limitation - GIL\n",
    "\n",
    "- Good for concurrent I/O programming. \n",
    "- Threads are cleared out of CPU as they block waiting for input from file, network,etc.\n",
    "- However, threads in python are serialized by GIL in the interpreter core. So, only one can run at a time, so it can' take the advantage of multi-core multi-processor architecture."
   ]
  },
  {
   "cell_type": "markdown",
   "metadata": {},
   "source": [
    "## Synchronization"
   ]
  },
  {
   "cell_type": "code",
   "execution_count": 3,
   "metadata": {},
   "outputs": [
    {
     "name": "stdout",
     "output_type": "stream",
     "text": [
      "Starting Thread-1\n",
      "Starting Thread-2\n",
      "Thread-1: Wed Feb 23 10:57:29 2022\n",
      "Thread-1: Wed Feb 23 10:57:30 2022\n",
      "Thread-1: Wed Feb 23 10:57:31 2022\n",
      "Thread-2: Wed Feb 23 10:57:33 2022\n",
      "Thread-2: Wed Feb 23 10:57:35 2022\n",
      "Thread-2: Wed Feb 23 10:57:37 2022\n",
      "Exiting Main Thread\n"
     ]
    }
   ],
   "source": [
    "#!/usr/bin/python\n",
    "import threading\n",
    "import time\n",
    "class myThread (threading.Thread):\n",
    "    def __init__(self, threadID, name, counter):\n",
    "        threading.Thread.__init__(self)\n",
    "        self.threadID = threadID\n",
    "        self.name = name\n",
    "        self.counter = counter\n",
    "    def run(self):\n",
    "        print(\"Starting \" + self.name)\n",
    "        # Get lock to synchronize threads\n",
    "        threadLock.acquire()\n",
    "        print_time(self.name, self.counter, 3)\n",
    "        # Free lock to release next thread\n",
    "        threadLock.release()\n",
    "def print_time(threadName, delay, counter):\n",
    "    while counter:\n",
    "        time.sleep(delay)\n",
    "        print(\"%s: %s\" % (threadName, time.ctime(time.time())))\n",
    "        counter -= 1\n",
    "threadLock = threading.Lock()\n",
    "threads = []\n",
    "# Create new threads\n",
    "thread1 = myThread(1, \"Thread-1\", 1)\n",
    "thread2 = myThread(2, \"Thread-2\", 2)\n",
    "# Start new Threads\n",
    "thread1.start()\n",
    "thread2.start()\n",
    "# Add threads to thread list\n",
    "threads.append(thread1)\n",
    "threads.append(thread2)\n",
    "# Wait for all threads to complete\n",
    "for t in threads:\n",
    "    t.join()\n",
    "print(\"Exiting Main Thread\")"
   ]
  },
  {
   "cell_type": "markdown",
   "metadata": {},
   "source": [
    "## Thread-Safe\n",
    "- Thread-safe code is code that will work even if many Threads are executing it simultaneously. \n",
    "    - It's worth being aware that this sometimes comes at a cost, of computer time and more complex coding, so it isn't always desirable. If a class can be safely used on only one thread, it may be better to do so.\n",
    "\n",
    "    - For example, Java has two classes that are almost equivalent, <b>StringBuffer</b> and <b>StringBuilder</b>. The difference is that StringBuffer is thread-safe, so a single instance of a StringBuffer may be used by multiple threads at once. StringBuilder is not thread-safe, and is designed as a higher-performance replacement for those cases (the vast majority) when the String is built by only one thread.\n",
    "- An easier way to understand it, is what make code not thread-safe. There's two main issue that will make a threaded application to have unwanted behavior.\n",
    "\n",
    "    - Accessing shared variable without locking This variable could be modified by another thread while executing the function. You want to prevent it with a locking mechanism to be sure of the behavior of your function. General rule of thumb is to keep the lock for the shortest time possible.\n",
    "\n",
    "    - Deadlock caused by mutual dependency on shared variable If you have two shared variable A and B. In one function, you lock A first then later you lock B. In another function, you start locking B and after a while, you lock A. This is a potential deadlock where first function will wait for B to be unlocked when second function will wait for A to be unlocked. This issue will probably not occur in your development environment and only from time to time. To avoid it, all locks must always be in the same order.\n",
    "\n"
   ]
  },
  {
   "cell_type": "code",
   "execution_count": null,
   "metadata": {},
   "outputs": [],
   "source": []
  }
 ],
 "metadata": {
  "kernelspec": {
   "display_name": "Python 3",
   "language": "python",
   "name": "python3"
  },
  "language_info": {
   "codemirror_mode": {
    "name": "ipython",
    "version": 3
   },
   "file_extension": ".py",
   "mimetype": "text/x-python",
   "name": "python",
   "nbconvert_exporter": "python",
   "pygments_lexer": "ipython3",
   "version": "3.8.8"
  }
 },
 "nbformat": 4,
 "nbformat_minor": 4
}
