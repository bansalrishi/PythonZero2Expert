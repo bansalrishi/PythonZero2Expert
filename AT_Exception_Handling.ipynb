{
 "cells": [
  {
   "cell_type": "markdown",
   "metadata": {},
   "source": [
    "# Topics\n",
    "- Raising Exception\n",
    "- Try and Exept Block\n",
    "- Segregating the Exceptions\n",
    "- Else & Finally in Exception\n",
    "- Declare you own exception \n"
   ]
  },
  {
   "cell_type": "markdown",
   "metadata": {},
   "source": [
    "## Raising Exception\n"
   ]
  },
  {
   "cell_type": "code",
   "execution_count": 1,
   "metadata": {},
   "outputs": [
    {
     "ename": "Exception",
     "evalue": "Value of x cannot be less than 50",
     "output_type": "error",
     "traceback": [
      "\u001b[1;31m---------------------------------------------------------------------------\u001b[0m",
      "\u001b[1;31mException\u001b[0m                                 Traceback (most recent call last)",
      "\u001b[1;32m<ipython-input-1-08bc96607221>\u001b[0m in \u001b[0;36m<module>\u001b[1;34m\u001b[0m\n\u001b[0;32m      1\u001b[0m \u001b[0mx\u001b[0m \u001b[1;33m=\u001b[0m \u001b[1;36m20\u001b[0m\u001b[1;33m\u001b[0m\u001b[1;33m\u001b[0m\u001b[0m\n\u001b[0;32m      2\u001b[0m \u001b[1;32mif\u001b[0m \u001b[0mx\u001b[0m \u001b[1;33m<\u001b[0m \u001b[1;36m50\u001b[0m\u001b[1;33m:\u001b[0m\u001b[1;33m\u001b[0m\u001b[1;33m\u001b[0m\u001b[0m\n\u001b[1;32m----> 3\u001b[1;33m     \u001b[1;32mraise\u001b[0m \u001b[0mException\u001b[0m\u001b[1;33m(\u001b[0m\u001b[1;34m\"Value of x cannot be less than 50\"\u001b[0m\u001b[1;33m)\u001b[0m\u001b[1;33m\u001b[0m\u001b[1;33m\u001b[0m\u001b[0m\n\u001b[0m",
      "\u001b[1;31mException\u001b[0m: Value of x cannot be less than 50"
     ]
    }
   ],
   "source": [
    "x = 20\n",
    "if x < 50:\n",
    "    raise Exception(\"Value of x cannot be less than 50\")"
   ]
  },
  {
   "cell_type": "markdown",
   "metadata": {},
   "source": [
    "## Try and Except Block\n",
    "- concept of Exception and Handler"
   ]
  },
  {
   "cell_type": "code",
   "execution_count": 6,
   "metadata": {},
   "outputs": [
    {
     "name": "stdout",
     "output_type": "stream",
     "text": [
      "Input First Number-->d\n",
      "Input Second Number-->23\n",
      "Inside exception: unsupported operand type(s) for /: 'str' and 'str'\n"
     ]
    }
   ],
   "source": [
    "try:\n",
    "    x = int(input(\"Input First Number-->\"))\n",
    "    y = int(input(\"Input Second Number-->\"))\n",
    "\n",
    "    result = x /y\n",
    "except Exception as e:\n",
    "    print(\"Inside exception:\", e)"
   ]
  },
  {
   "cell_type": "markdown",
   "metadata": {},
   "source": [
    "## Segregating the Exceptions\n"
   ]
  },
  {
   "cell_type": "code",
   "execution_count": 15,
   "metadata": {},
   "outputs": [
    {
     "name": "stdout",
     "output_type": "stream",
     "text": [
      "Input First Number-->e\n",
      "Its a type error with messgae:  invalid literal for int() with base 10: 'e'\n"
     ]
    }
   ],
   "source": [
    "try:\n",
    "    x = int(input(\"Input First Number-->\"))\n",
    "    y = int(input(\"Input Second Number-->\"))\n",
    "    result = x /y\n",
    "    print(result)\n",
    "except ValueError as value_error:\n",
    "    print(\"Its a type error with messgae: \", value_error)\n",
    "except ZeroDivisionError as zerod_error:\n",
    "    print(\"Cant divide by zero: \", zerod_error)    "
   ]
  },
  {
   "cell_type": "markdown",
   "metadata": {},
   "source": [
    "## Else in Exception"
   ]
  },
  {
   "cell_type": "code",
   "execution_count": 21,
   "metadata": {},
   "outputs": [
    {
     "name": "stdout",
     "output_type": "stream",
     "text": [
      "Input First Number-->20\n",
      "Input Second Number-->5\n",
      "4.0\n",
      "All went well\n",
      "Finished Successfully\n"
     ]
    }
   ],
   "source": [
    "try:\n",
    "    x = int(input(\"Input First Number-->\"))\n",
    "    y = int(input(\"Input Second Number-->\"))\n",
    "    result = x /y\n",
    "    print(result)\n",
    "except ZeroDivisionError as zerod_error:\n",
    "    print(\"Cant divide by zero: \", zerod_error)    \n",
    "except ZeroDivisionError as zerod_error:\n",
    "    print(\"Cant divide by zero: \", zerod_error) \n",
    "else:\n",
    "    print(\"All went well\")\n",
    "finally:\n",
    "    print(\"Finished Successfully\")"
   ]
  },
  {
   "cell_type": "markdown",
   "metadata": {},
   "source": [
    "## Declare your own Exception"
   ]
  },
  {
   "cell_type": "code",
   "execution_count": 27,
   "metadata": {},
   "outputs": [
    {
     "name": "stdout",
     "output_type": "stream",
     "text": [
      "Input First Number-->20\n",
      "Input Second Number-->30\n",
      "0.6666666666666666\n",
      "Inside MyException:Division is giving less than one, which is not good\n"
     ]
    }
   ],
   "source": [
    "class MyException(Exception):\n",
    "    \"\"\"This is customized Exception\"\"\"\n",
    "    def __init__(self, msg):\n",
    "        self.message = \"Inside MyException: \" + msg\n",
    "    def __str__(self):\n",
    "        return str(self.message)\n",
    "try:\n",
    "    x = int(input(\"Input First Number-->\"))\n",
    "    y = int(input(\"Input Second Number-->\"))\n",
    "    result = x /y\n",
    "    print(result)\n",
    "    if result < 1:\n",
    "        raise MyException(\"Division is giving less than one, which is not good\")\n",
    "except ValueError as value_error:\n",
    "    print(\"Its a type error with messgae: \", value_error)\n",
    "except ZeroDivisionError as zerod_error:\n",
    "    print(\"Cant divide by zero: \", zerod_error)   \n",
    "except MyException as myerror:\n",
    "    print(myerror)\n"
   ]
  },
  {
   "cell_type": "code",
   "execution_count": null,
   "metadata": {},
   "outputs": [],
   "source": []
  }
 ],
 "metadata": {
  "kernelspec": {
   "display_name": "Python 3",
   "language": "python",
   "name": "python3"
  },
  "language_info": {
   "codemirror_mode": {
    "name": "ipython",
    "version": 3
   },
   "file_extension": ".py",
   "mimetype": "text/x-python",
   "name": "python",
   "nbconvert_exporter": "python",
   "pygments_lexer": "ipython3",
   "version": "3.8.5"
  }
 },
 "nbformat": 4,
 "nbformat_minor": 4
}
