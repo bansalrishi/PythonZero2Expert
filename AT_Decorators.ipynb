{
 "cells": [
  {
   "cell_type": "code",
   "execution_count": 10,
   "id": "8e4c11ab",
   "metadata": {},
   "outputs": [
    {
     "name": "stdout",
     "output_type": "stream",
     "text": [
      "479001600\n",
      "Total Time Taken to execute factorial function is: 2.002634286880493\n"
     ]
    }
   ],
   "source": [
    "import math\n",
    "import time\n",
    "def calculate_time(func):\n",
    "    def inner1(*arg, **kwargs):\n",
    "        begin = time.time()\n",
    "        func(*arg, **kwargs)\n",
    "        \n",
    "        end = time.time()\n",
    "        print(\"Total Time Taken to execute {0} function is: {1}\".format(func.__name__, end - begin))\n",
    "        \n",
    "    return inner1\n",
    "\n",
    "@calculate_time\n",
    "def factorial(num):\n",
    "    time.sleep(2)\n",
    "    print(math.factorial(num))\n",
    "    \n",
    "factorial(12)"
   ]
  },
  {
   "cell_type": "code",
   "execution_count": null,
   "id": "dd2e7e07",
   "metadata": {},
   "outputs": [],
   "source": []
  }
 ],
 "metadata": {
  "kernelspec": {
   "display_name": "Python 3",
   "language": "python",
   "name": "python3"
  },
  "language_info": {
   "codemirror_mode": {
    "name": "ipython",
    "version": 3
   },
   "file_extension": ".py",
   "mimetype": "text/x-python",
   "name": "python",
   "nbconvert_exporter": "python",
   "pygments_lexer": "ipython3",
   "version": "3.8.8"
  }
 },
 "nbformat": 4,
 "nbformat_minor": 5
}
