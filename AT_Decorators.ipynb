{
 "cells": [
  {
   "cell_type": "markdown",
   "id": "67d866f6",
   "metadata": {},
   "source": [
    "Def: It use to modify behaviour of function or class"
   ]
  },
  {
   "cell_type": "code",
   "execution_count": 10,
   "id": "65c9c4c4",
   "metadata": {},
   "outputs": [
    {
     "name": "stdout",
     "output_type": "stream",
     "text": [
      "479001600\n",
      "Total Time Taken to execute factorial function is: 2.002634286880493\n"
     ]
    }
   ],
   "source": [
    "#Calculate timetaken by a function\n",
    "import math\n",
    "import time\n",
    "def calculate_time(func):\n",
    "    def inner1(*arg, **kwargs):\n",
    "        begin = time.time()\n",
    "        func(*arg, **kwargs)\n",
    "        \n",
    "        end = time.time()\n",
    "        print(\"Total Time Taken to execute {0} function is: {1}\".format(func.__name__, end - begin))\n",
    "        \n",
    "    return inner1\n",
    "\n",
    "@calculate_time\n",
    "def factorial(num):\n",
    "    time.sleep(2)\n",
    "    print(math.factorial(num))\n",
    "    \n",
    "factorial(12)"
   ]
  },
  {
   "cell_type": "code",
   "execution_count": 11,
   "id": "f8625d21",
   "metadata": {},
   "outputs": [
    {
     "name": "stdout",
     "output_type": "stream",
     "text": [
      "8100\n"
     ]
    }
   ],
   "source": [
    "#decorator chaining\n",
    "#This is similar to decort_1(decort(num))\n",
    "def decort_1(func):\n",
    "    def inner():\n",
    "        x = func()\n",
    "        return x * x\n",
    "    return inner\n",
    " \n",
    "def decort(func):\n",
    "    def inner():\n",
    "        x = func()\n",
    "        return 3 * x\n",
    "    return inner\n",
    " \n",
    "@decort_1\n",
    "@decort\n",
    "def num():\n",
    "    return 30\n",
    " \n",
    "print(num())"
   ]
  },
  {
   "cell_type": "code",
   "execution_count": null,
   "id": "ca5191c3",
   "metadata": {},
   "outputs": [],
   "source": []
  }
 ],
 "metadata": {
  "kernelspec": {
   "display_name": "Python 3",
   "language": "python",
   "name": "python3"
  },
  "language_info": {
   "codemirror_mode": {
    "name": "ipython",
    "version": 3
   },
   "file_extension": ".py",
   "mimetype": "text/x-python",
   "name": "python",
   "nbconvert_exporter": "python",
   "pygments_lexer": "ipython3",
   "version": "3.8.8"
  }
 },
 "nbformat": 4,
 "nbformat_minor": 5
}
